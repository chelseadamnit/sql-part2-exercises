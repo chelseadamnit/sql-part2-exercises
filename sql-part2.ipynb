{
 "cells": [
  {
   "cell_type": "markdown",
   "metadata": {
    "azdata_cell_guid": "2b5a5976-8b51-4e24-a08d-234ef97f379a"
   },
   "source": [
    "# Exercises\n",
    "\n",
    "To get started with the exercises, go ahead and take a look at RideShareDB. This database was created with data from a dataset on [Kaggle](https://www.kaggle.com/fivethirtyeight/uber-pickups-in-new-york-city). The dataset was made using data obtained from the NYC Taxi and Limosine Commission or TLC. TLC tracks this data by base and even rideshare companies such as Uber and Lyft have assigned bases that each pickup must be attributed to. For the exercises, we will be using the `other-FHV-services-jan-july15` and `lyft` tables in RideShareDB. These tables include the data for each pickup attributed to a few other For-Hire Vehicles (FHV) services and Lyft. These tables do not include any data from Uber.\n",
    "\n",
    "## String Functions\n",
    "\n",
    "Write a query that returns the last 3 characters of the base name in `other-FHV-services-jan-july15`. Do you see anything that is a common abbreviation at the end of business names?"
   ]
  },
  {
   "cell_type": "code",
   "execution_count": 4,
   "metadata": {
    "azdata_cell_guid": "392f7b72-9acf-44a4-bb53-6c29090c5d75",
    "scrolled": true,
    "tags": []
   },
   "outputs": [
    {
     "ename": "SyntaxError",
     "evalue": "invalid syntax (2964305152.py, line 5)",
     "output_type": "error",
     "traceback": [
      "\u001b[1;36m  Cell \u001b[1;32mIn[4], line 5\u001b[1;36m\u001b[0m\n\u001b[1;33m    import data/other-FHV-services_jan-aug-2015 as FHVfd\u001b[0m\n\u001b[1;37m               ^\u001b[0m\n\u001b[1;31mSyntaxError\u001b[0m\u001b[1;31m:\u001b[0m invalid syntax\n"
     ]
    }
   ],
   "source": [
    "\n",
    "# import pandas as pd\n",
    "SELECT DISTINCT RIGHT(Base_Name, 3) AS [Last 3],\n",
    "COUNT(RIGHT(Base_Name, 3)) AS [Last 3 Count]\n",
    "FROM [other_FHV_services_jan_aug_2015]\n",
    "GROUP BY RIGHT(Base_Name, 3) \n",
    "ORDER BY [Last 3 Count] DESC;\n",
    "\n",
    "#common abbreviations are NC. and INC and LLC and RP.  and ORP"
   ]
  },
  {
   "cell_type": "markdown",
   "metadata": {
    "azdata_cell_guid": "6c206898-77f4-4357-8d17-33192980f45d"
   },
   "source": [
    "The number of trips and the number of pickups are both stored as strings in `other-FHV-services-jan-july15`. This is because the data provided included spaces in some of the numbers. Write a query that returns the location of spaces in both of these columns."
   ]
  },
  {
   "cell_type": "markdown",
   "metadata": {
    "azdata_cell_guid": "3c810c3d-4e66-447b-8326-19e59d8a1b88"
   },
   "source": []
  },
  {
   "cell_type": "markdown",
   "metadata": {
    "azdata_cell_guid": "b138ac53-9fff-4320-9ff1-08717873f2ee"
   },
   "source": [
    "## Date Functions\n",
    "\n",
    "For ``other-FHV-services-jan-july15``, display the name of month of the pickup date and order in descending order. Is the result of this query what you expected?"
   ]
  },
  {
   "cell_type": "code",
   "execution_count": null,
   "metadata": {
    "azdata_cell_guid": "8abd404c-a360-4b10-8d6b-8b34ef763bc7",
    "tags": []
   },
   "outputs": [],
   "source": [
    "SELECT DATENAME(month, Pick_Up_Date) AS MONTH, \n",
    "Pick_Up_Date\n",
    "FROM [other_FHV_services_jan_aug_2015]\n",
    "ORDER BY Pick_Up_Date DESC;\n"
   ]
  },
  {
   "cell_type": "markdown",
   "metadata": {
    "azdata_cell_guid": "aa6bf15c-b847-45f0-ba0d-79c7636c4578"
   },
   "source": [
    "Using `other-FHV-services-jan-july15`, write a query that returns the day number of the pickup date and month name and orders it in ascending order by day number."
   ]
  },
  {
   "cell_type": "code",
   "execution_count": 1,
   "metadata": {
    "azdata_cell_guid": "46dcd617-8dcf-4c15-b5fa-c0ec04f2bf29"
   },
   "outputs": [
    {
     "ename": "SyntaxError",
     "evalue": "invalid syntax (255626373.py, line 1)",
     "output_type": "error",
     "traceback": [
      "\u001b[1;36m  Cell \u001b[1;32mIn[1], line 1\u001b[1;36m\u001b[0m\n\u001b[1;33m    SELECT DATENAME(month, Pick_Up_Date) + ' ' + DATENAME(day, Pick_Up_Date) AS [MONTH/DAY],\u001b[0m\n\u001b[1;37m           ^\u001b[0m\n\u001b[1;31mSyntaxError\u001b[0m\u001b[1;31m:\u001b[0m invalid syntax\n"
     ]
    }
   ],
   "source": [
    "SELECT DATENAME(month, Pick_Up_Date) + ' ' + DATENAME(day, Pick_Up_Date) AS [MONTH/DAY], \n",
    "Pick_Up_Date\n",
    "FROM [other_FHV_services_jan_aug_2015]\n",
    "ORDER BY Pick_Up_Date DESC;\n",
    "\n",
    "\n",
    "## another way to do this is:\n",
    "\n",
    "# SELECT CONCAT (DATENAME(month, Pick_Up_Date), ' ', DATENAME(day, Pick_Up_Date)) AS [MONTH/DAY],\n",
    "# Pick_Up_Date\n",
    "# FROM [other_FHV_services_jan_aug_2015]\n",
    "# ORDER BY Pick_Up_Date DESC;\n",
    "\n"
   ]
  },
  {
   "cell_type": "markdown",
   "metadata": {
    "azdata_cell_guid": "348342a2-6039-43b1-8461-841288deee94"
   },
   "source": [
    "## Aggregate Functions\n",
    "\n",
    "Write a query that returns the most easterly Lyft pickup."
   ]
  },
  {
   "cell_type": "code",
   "execution_count": null,
   "metadata": {
    "azdata_cell_guid": "f2cb1b41-c92a-47ea-bd77-7bafd78af1d4",
    "tags": []
   },
   "outputs": [],
   "source": [
    "SELECT TOP 1 * FROM [lyft] WHERE [start_lng] is not null\n",
    "ORDER BY start_lng\n",
    "\n",
    "# The most negative value for longitude is the most eastern. trip timed at 2014-08-14 02:23:00.0000000 is the most eastern"
   ]
  },
  {
   "cell_type": "markdown",
   "metadata": {
    "azdata_cell_guid": "bd589862-044d-4909-8565-8aa4771d9c00"
   },
   "source": [
    "Write a query the returns the most northerly Lyft pickup."
   ]
  },
  {
   "cell_type": "code",
   "execution_count": null,
   "metadata": {
    "azdata_cell_guid": "189b7c25-0dfa-4ca0-a683-d402b3875abd"
   },
   "outputs": [],
   "source": [
    "SELECT TOP 1 * FROM [lyft] WHERE [start_lat] is not null\n",
    "ORDER BY start_lng DESC;\n",
    "\n",
    "#The most positive value latitude is the most northern, triped timed at 2014-08-13 23:25:00.0000000 is the most northern."
   ]
  },
  {
   "cell_type": "markdown",
   "metadata": {
    "azdata_cell_guid": "674f8758-14bf-4712-b029-0ad0447617fb"
   },
   "source": [
    "Using ``other-FHV-services-jan-july15``, write a query that connects the the base number and the base name in a string that uses the following format: base\\_number: base\\_name."
   ]
  },
  {
   "cell_type": "code",
   "execution_count": null,
   "metadata": {
    "azdata_cell_guid": "f6f4b247-63c0-4997-8769-204e37a55c08"
   },
   "outputs": [],
   "source": [
    "\n",
    "SELECT CONCAT(Base_Number, ': ', Base_Name) AS [Base Number and Name] FROM [other_FHV_services_jan_aug_2015] "
   ]
  }
 ],
 "metadata": {
  "kernelspec": {
   "display_name": "Python 3 (ipykernel)",
   "language": "python",
   "name": "python3"
  },
  "language_info": {
   "codemirror_mode": {
    "name": "ipython",
    "version": 3
   },
   "file_extension": ".py",
   "mimetype": "text/x-python",
   "name": "python",
   "nbconvert_exporter": "python",
   "pygments_lexer": "ipython3",
   "version": "3.10.9"
  }
 },
 "nbformat": 4,
 "nbformat_minor": 2
}
